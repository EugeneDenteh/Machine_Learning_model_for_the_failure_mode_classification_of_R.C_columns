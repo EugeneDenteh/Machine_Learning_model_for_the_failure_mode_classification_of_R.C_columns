{
 "cells": [
  {
   "cell_type": "code",
   "execution_count": 1,
   "id": "1aba17e9-8633-4a3d-ba0d-138e41f3b505",
   "metadata": {},
   "outputs": [],
   "source": [
    "import pandas as pd\n",
    "#pd.set_option('display.max_rows', None)\n",
    "import matplotlib.pyplot as plt\n",
    "import numpy as np\n",
    "%matplotlib inline"
   ]
  },
  {
   "cell_type": "code",
   "execution_count": 2,
   "id": "ba95727e-749f-4917-b167-21c3a87bc8fc",
   "metadata": {
    "tags": []
   },
   "outputs": [
    {
     "data": {
      "text/html": [
       "<div>\n",
       "<style scoped>\n",
       "    .dataframe tbody tr th:only-of-type {\n",
       "        vertical-align: middle;\n",
       "    }\n",
       "\n",
       "    .dataframe tbody tr th {\n",
       "        vertical-align: top;\n",
       "    }\n",
       "\n",
       "    .dataframe thead th {\n",
       "        text-align: right;\n",
       "    }\n",
       "</style>\n",
       "<table border=\"1\" class=\"dataframe\">\n",
       "  <thead>\n",
       "    <tr style=\"text-align: right;\">\n",
       "      <th></th>\n",
       "      <th>ALF</th>\n",
       "      <th>AS</th>\n",
       "      <th>LRII</th>\n",
       "      <th>LRIC</th>\n",
       "      <th>Rho</th>\n",
       "      <th>CT</th>\n",
       "      <th>C</th>\n",
       "      <th>CRPa</th>\n",
       "      <th>CRPe</th>\n",
       "      <th>DLI</th>\n",
       "      <th>DLC</th>\n",
       "      <th>TRI</th>\n",
       "      <th>Failure</th>\n",
       "    </tr>\n",
       "  </thead>\n",
       "  <tbody>\n",
       "    <tr>\n",
       "      <th>0</th>\n",
       "      <td>0.259740</td>\n",
       "      <td>2.181818</td>\n",
       "      <td>0.097150</td>\n",
       "      <td>0.1943</td>\n",
       "      <td>0.0179</td>\n",
       "      <td>7</td>\n",
       "      <td>DE</td>\n",
       "      <td>0.072727</td>\n",
       "      <td>0.072727</td>\n",
       "      <td>1.694933</td>\n",
       "      <td>1.694933</td>\n",
       "      <td>0.367347</td>\n",
       "      <td>Flexure</td>\n",
       "    </tr>\n",
       "    <tr>\n",
       "      <th>1</th>\n",
       "      <td>0.213998</td>\n",
       "      <td>2.181818</td>\n",
       "      <td>0.054207</td>\n",
       "      <td>0.1084</td>\n",
       "      <td>0.0179</td>\n",
       "      <td>7</td>\n",
       "      <td>DE</td>\n",
       "      <td>0.069091</td>\n",
       "      <td>0.069091</td>\n",
       "      <td>1.694933</td>\n",
       "      <td>1.694933</td>\n",
       "      <td>0.334973</td>\n",
       "      <td>Flexure</td>\n",
       "    </tr>\n",
       "    <tr>\n",
       "      <th>2</th>\n",
       "      <td>0.420020</td>\n",
       "      <td>2.181818</td>\n",
       "      <td>0.104867</td>\n",
       "      <td>0.2097</td>\n",
       "      <td>0.0179</td>\n",
       "      <td>4</td>\n",
       "      <td>DE</td>\n",
       "      <td>0.072727</td>\n",
       "      <td>0.072727</td>\n",
       "      <td>1.694933</td>\n",
       "      <td>1.694933</td>\n",
       "      <td>0.422964</td>\n",
       "      <td>Flexure</td>\n",
       "    </tr>\n",
       "    <tr>\n",
       "      <th>3</th>\n",
       "      <td>0.599965</td>\n",
       "      <td>2.181818</td>\n",
       "      <td>0.095496</td>\n",
       "      <td>0.1910</td>\n",
       "      <td>0.0179</td>\n",
       "      <td>4</td>\n",
       "      <td>DE</td>\n",
       "      <td>0.069091</td>\n",
       "      <td>0.069091</td>\n",
       "      <td>1.694933</td>\n",
       "      <td>1.694933</td>\n",
       "      <td>0.664159</td>\n",
       "      <td>Flexure</td>\n",
       "    </tr>\n",
       "    <tr>\n",
       "      <th>4</th>\n",
       "      <td>0.380032</td>\n",
       "      <td>4.000000</td>\n",
       "      <td>0.090983</td>\n",
       "      <td>0.1820</td>\n",
       "      <td>0.0151</td>\n",
       "      <td>4</td>\n",
       "      <td>DE</td>\n",
       "      <td>0.061250</td>\n",
       "      <td>0.061250</td>\n",
       "      <td>1.569087</td>\n",
       "      <td>1.569087</td>\n",
       "      <td>0.613656</td>\n",
       "      <td>Flexure</td>\n",
       "    </tr>\n",
       "    <tr>\n",
       "      <th>...</th>\n",
       "      <td>...</td>\n",
       "      <td>...</td>\n",
       "      <td>...</td>\n",
       "      <td>...</td>\n",
       "      <td>...</td>\n",
       "      <td>...</td>\n",
       "      <td>...</td>\n",
       "      <td>...</td>\n",
       "      <td>...</td>\n",
       "      <td>...</td>\n",
       "      <td>...</td>\n",
       "      <td>...</td>\n",
       "      <td>...</td>\n",
       "    </tr>\n",
       "    <tr>\n",
       "      <th>238</th>\n",
       "      <td>0.027486</td>\n",
       "      <td>3.112500</td>\n",
       "      <td>0.064429</td>\n",
       "      <td>0.0966</td>\n",
       "      <td>0.0158</td>\n",
       "      <td>2</td>\n",
       "      <td>C</td>\n",
       "      <td>0.068750</td>\n",
       "      <td>0.068750</td>\n",
       "      <td>1.550964</td>\n",
       "      <td>1.550964</td>\n",
       "      <td>0.083306</td>\n",
       "      <td>Flexure</td>\n",
       "    </tr>\n",
       "    <tr>\n",
       "      <th>239</th>\n",
       "      <td>0.028608</td>\n",
       "      <td>3.112500</td>\n",
       "      <td>0.067059</td>\n",
       "      <td>0.1006</td>\n",
       "      <td>0.0158</td>\n",
       "      <td>2</td>\n",
       "      <td>C</td>\n",
       "      <td>0.068750</td>\n",
       "      <td>0.068750</td>\n",
       "      <td>1.550964</td>\n",
       "      <td>1.550964</td>\n",
       "      <td>0.086707</td>\n",
       "      <td>Flexure</td>\n",
       "    </tr>\n",
       "    <tr>\n",
       "      <th>240</th>\n",
       "      <td>0.029556</td>\n",
       "      <td>3.112500</td>\n",
       "      <td>0.069280</td>\n",
       "      <td>0.1039</td>\n",
       "      <td>0.0158</td>\n",
       "      <td>2</td>\n",
       "      <td>C</td>\n",
       "      <td>0.068750</td>\n",
       "      <td>0.068750</td>\n",
       "      <td>1.550964</td>\n",
       "      <td>1.550964</td>\n",
       "      <td>0.089580</td>\n",
       "      <td>Flexure</td>\n",
       "    </tr>\n",
       "    <tr>\n",
       "      <th>241</th>\n",
       "      <td>0.026664</td>\n",
       "      <td>3.112500</td>\n",
       "      <td>0.062503</td>\n",
       "      <td>0.0938</td>\n",
       "      <td>0.0158</td>\n",
       "      <td>2</td>\n",
       "      <td>C</td>\n",
       "      <td>0.068750</td>\n",
       "      <td>0.068750</td>\n",
       "      <td>1.550964</td>\n",
       "      <td>1.550964</td>\n",
       "      <td>0.080816</td>\n",
       "      <td>Flexure</td>\n",
       "    </tr>\n",
       "    <tr>\n",
       "      <th>242</th>\n",
       "      <td>0.027333</td>\n",
       "      <td>3.112500</td>\n",
       "      <td>0.064070</td>\n",
       "      <td>0.0961</td>\n",
       "      <td>0.0158</td>\n",
       "      <td>2</td>\n",
       "      <td>C</td>\n",
       "      <td>0.068750</td>\n",
       "      <td>0.068750</td>\n",
       "      <td>1.550964</td>\n",
       "      <td>1.550964</td>\n",
       "      <td>0.082842</td>\n",
       "      <td>Flexure</td>\n",
       "    </tr>\n",
       "  </tbody>\n",
       "</table>\n",
       "<p>243 rows × 13 columns</p>\n",
       "</div>"
      ],
      "text/plain": [
       "          ALF        AS      LRII    LRIC     Rho  CT   C      CRPa      CRPe  \\\n",
       "0    0.259740  2.181818  0.097150  0.1943  0.0179   7  DE  0.072727  0.072727   \n",
       "1    0.213998  2.181818  0.054207  0.1084  0.0179   7  DE  0.069091  0.069091   \n",
       "2    0.420020  2.181818  0.104867  0.2097  0.0179   4  DE  0.072727  0.072727   \n",
       "3    0.599965  2.181818  0.095496  0.1910  0.0179   4  DE  0.069091  0.069091   \n",
       "4    0.380032  4.000000  0.090983  0.1820  0.0151   4  DE  0.061250  0.061250   \n",
       "..        ...       ...       ...     ...     ...  ..  ..       ...       ...   \n",
       "238  0.027486  3.112500  0.064429  0.0966  0.0158   2   C  0.068750  0.068750   \n",
       "239  0.028608  3.112500  0.067059  0.1006  0.0158   2   C  0.068750  0.068750   \n",
       "240  0.029556  3.112500  0.069280  0.1039  0.0158   2   C  0.068750  0.068750   \n",
       "241  0.026664  3.112500  0.062503  0.0938  0.0158   2   C  0.068750  0.068750   \n",
       "242  0.027333  3.112500  0.064070  0.0961  0.0158   2   C  0.068750  0.068750   \n",
       "\n",
       "          DLI       DLC       TRI  Failure  \n",
       "0    1.694933  1.694933  0.367347  Flexure  \n",
       "1    1.694933  1.694933  0.334973  Flexure  \n",
       "2    1.694933  1.694933  0.422964  Flexure  \n",
       "3    1.694933  1.694933  0.664159  Flexure  \n",
       "4    1.569087  1.569087  0.613656  Flexure  \n",
       "..        ...       ...       ...      ...  \n",
       "238  1.550964  1.550964  0.083306  Flexure  \n",
       "239  1.550964  1.550964  0.086707  Flexure  \n",
       "240  1.550964  1.550964  0.089580  Flexure  \n",
       "241  1.550964  1.550964  0.080816  Flexure  \n",
       "242  1.550964  1.550964  0.082842  Flexure  \n",
       "\n",
       "[243 rows x 13 columns]"
      ]
     },
     "execution_count": 2,
     "metadata": {},
     "output_type": "execute_result"
    }
   ],
   "source": [
    "Col_Data=pd.read_csv('recColumnData2.csv')\n",
    "Col_Data"
   ]
  },
  {
   "cell_type": "markdown",
   "id": "aea7c8ea-da0d-4d4a-9a6f-caa5071ced14",
   "metadata": {},
   "source": [
    "### Using SMOTE (Synthetic Minority Oversampling Technique) to achieve oversampling"
   ]
  },
  {
   "cell_type": "code",
   "execution_count": 3,
   "id": "5190950c-ca32-43b1-8030-6f36acbe5143",
   "metadata": {},
   "outputs": [
    {
     "data": {
      "text/plain": [
       "Flexure          191\n",
       "Flexure-shear     34\n",
       "Shear             18\n",
       "Name: Failure, dtype: int64"
      ]
     },
     "execution_count": 3,
     "metadata": {},
     "output_type": "execute_result"
    }
   ],
   "source": [
    "Col_Data.Failure.value_counts()"
   ]
  },
  {
   "cell_type": "code",
   "execution_count": 4,
   "id": "7574f4fb-4964-448e-88ba-2cc61a584cbc",
   "metadata": {
    "tags": []
   },
   "outputs": [
    {
     "name": "stdout",
     "output_type": "stream",
     "text": [
      "Requirement already satisfied: imblearn in /Users/elman/Documents/sample_project/env/lib/python3.11/site-packages (0.0)\n",
      "Requirement already satisfied: imbalanced-learn in /Users/elman/Documents/sample_project/env/lib/python3.11/site-packages (from imblearn) (0.11.0)\n",
      "Requirement already satisfied: numpy>=1.17.3 in /Users/elman/Documents/sample_project/env/lib/python3.11/site-packages (from imbalanced-learn->imblearn) (1.23.5)\n",
      "Requirement already satisfied: scipy>=1.5.0 in /Users/elman/Documents/sample_project/env/lib/python3.11/site-packages (from imbalanced-learn->imblearn) (1.10.1)\n",
      "Requirement already satisfied: scikit-learn>=1.0.2 in /Users/elman/Documents/sample_project/env/lib/python3.11/site-packages (from imbalanced-learn->imblearn) (1.2.2)\n",
      "Requirement already satisfied: joblib>=1.1.1 in /Users/elman/Documents/sample_project/env/lib/python3.11/site-packages (from imbalanced-learn->imblearn) (1.1.1)\n",
      "Requirement already satisfied: threadpoolctl>=2.0.0 in /Users/elman/Documents/sample_project/env/lib/python3.11/site-packages (from imbalanced-learn->imblearn) (2.2.0)\n",
      "\n",
      "\u001b[1m[\u001b[0m\u001b[34;49mnotice\u001b[0m\u001b[1;39;49m]\u001b[0m\u001b[39;49m A new release of pip is available: \u001b[0m\u001b[31;49m23.1.2\u001b[0m\u001b[39;49m -> \u001b[0m\u001b[32;49m23.3.2\u001b[0m\n",
      "\u001b[1m[\u001b[0m\u001b[34;49mnotice\u001b[0m\u001b[1;39;49m]\u001b[0m\u001b[39;49m To update, run: \u001b[0m\u001b[32;49mpip install --upgrade pip\u001b[0m\n",
      "Note: you may need to restart the kernel to use updated packages.\n"
     ]
    }
   ],
   "source": [
    "pip install imblearn"
   ]
  },
  {
   "cell_type": "code",
   "execution_count": 13,
   "id": "d3d99ac7-6574-4d31-a2b4-c9fbfb5c0772",
   "metadata": {
    "tags": []
   },
   "outputs": [
    {
     "data": {
      "text/plain": [
       "ALF        float64\n",
       "AS         float64\n",
       "LRII       float64\n",
       "LRIC       float64\n",
       "Rho        float64\n",
       "CT           int64\n",
       "C           object\n",
       "CRPa       float64\n",
       "CRPe       float64\n",
       "DLI        float64\n",
       "DLC        float64\n",
       "TRI        float64\n",
       "Failure     object\n",
       "dtype: object"
      ]
     },
     "execution_count": 13,
     "metadata": {},
     "output_type": "execute_result"
    }
   ],
   "source": [
    "Col_Data.dtypes"
   ]
  },
  {
   "cell_type": "code",
   "execution_count": 14,
   "id": "1730aa1e-234e-46f1-84fb-0db76e979961",
   "metadata": {
    "tags": []
   },
   "outputs": [
    {
     "data": {
      "text/plain": [
       "ALF        0\n",
       "AS         0\n",
       "LRII       0\n",
       "LRIC       0\n",
       "Rho        0\n",
       "CT         0\n",
       "C          0\n",
       "CRPa       0\n",
       "CRPe       0\n",
       "DLI        0\n",
       "DLC        0\n",
       "TRI        0\n",
       "Failure    0\n",
       "dtype: int64"
      ]
     },
     "execution_count": 14,
     "metadata": {},
     "output_type": "execute_result"
    }
   ],
   "source": [
    "#Revealing the number of missing data\n",
    "Col_Data.isna().sum()"
   ]
  },
  {
   "cell_type": "code",
   "execution_count": 15,
   "id": "18f77786-8a86-4b28-ae0e-2f8b50c757ed",
   "metadata": {
    "tags": []
   },
   "outputs": [
    {
     "data": {
      "text/html": [
       "<div>\n",
       "<style scoped>\n",
       "    .dataframe tbody tr th:only-of-type {\n",
       "        vertical-align: middle;\n",
       "    }\n",
       "\n",
       "    .dataframe tbody tr th {\n",
       "        vertical-align: top;\n",
       "    }\n",
       "\n",
       "    .dataframe thead th {\n",
       "        text-align: right;\n",
       "    }\n",
       "</style>\n",
       "<table border=\"1\" class=\"dataframe\">\n",
       "  <thead>\n",
       "    <tr style=\"text-align: right;\">\n",
       "      <th></th>\n",
       "      <th>ALF</th>\n",
       "      <th>AS</th>\n",
       "      <th>LRII</th>\n",
       "      <th>LRIC</th>\n",
       "      <th>Rho</th>\n",
       "      <th>CT</th>\n",
       "      <th>C</th>\n",
       "      <th>CRPa</th>\n",
       "      <th>CRPe</th>\n",
       "      <th>DLI</th>\n",
       "      <th>DLC</th>\n",
       "      <th>TRI</th>\n",
       "      <th>Failure</th>\n",
       "      <th>Failure_N</th>\n",
       "    </tr>\n",
       "  </thead>\n",
       "  <tbody>\n",
       "    <tr>\n",
       "      <th>0</th>\n",
       "      <td>0.259740</td>\n",
       "      <td>2.181818</td>\n",
       "      <td>0.097150</td>\n",
       "      <td>0.1943</td>\n",
       "      <td>0.0179</td>\n",
       "      <td>7</td>\n",
       "      <td>2</td>\n",
       "      <td>0.072727</td>\n",
       "      <td>0.072727</td>\n",
       "      <td>1.694933</td>\n",
       "      <td>1.694933</td>\n",
       "      <td>0.367347</td>\n",
       "      <td>Flexure</td>\n",
       "      <td>0</td>\n",
       "    </tr>\n",
       "    <tr>\n",
       "      <th>1</th>\n",
       "      <td>0.213998</td>\n",
       "      <td>2.181818</td>\n",
       "      <td>0.054207</td>\n",
       "      <td>0.1084</td>\n",
       "      <td>0.0179</td>\n",
       "      <td>7</td>\n",
       "      <td>2</td>\n",
       "      <td>0.069091</td>\n",
       "      <td>0.069091</td>\n",
       "      <td>1.694933</td>\n",
       "      <td>1.694933</td>\n",
       "      <td>0.334973</td>\n",
       "      <td>Flexure</td>\n",
       "      <td>0</td>\n",
       "    </tr>\n",
       "    <tr>\n",
       "      <th>2</th>\n",
       "      <td>0.420020</td>\n",
       "      <td>2.181818</td>\n",
       "      <td>0.104867</td>\n",
       "      <td>0.2097</td>\n",
       "      <td>0.0179</td>\n",
       "      <td>4</td>\n",
       "      <td>2</td>\n",
       "      <td>0.072727</td>\n",
       "      <td>0.072727</td>\n",
       "      <td>1.694933</td>\n",
       "      <td>1.694933</td>\n",
       "      <td>0.422964</td>\n",
       "      <td>Flexure</td>\n",
       "      <td>0</td>\n",
       "    </tr>\n",
       "    <tr>\n",
       "      <th>3</th>\n",
       "      <td>0.599965</td>\n",
       "      <td>2.181818</td>\n",
       "      <td>0.095496</td>\n",
       "      <td>0.1910</td>\n",
       "      <td>0.0179</td>\n",
       "      <td>4</td>\n",
       "      <td>2</td>\n",
       "      <td>0.069091</td>\n",
       "      <td>0.069091</td>\n",
       "      <td>1.694933</td>\n",
       "      <td>1.694933</td>\n",
       "      <td>0.664159</td>\n",
       "      <td>Flexure</td>\n",
       "      <td>0</td>\n",
       "    </tr>\n",
       "    <tr>\n",
       "      <th>4</th>\n",
       "      <td>0.380032</td>\n",
       "      <td>4.000000</td>\n",
       "      <td>0.090983</td>\n",
       "      <td>0.1820</td>\n",
       "      <td>0.0151</td>\n",
       "      <td>4</td>\n",
       "      <td>2</td>\n",
       "      <td>0.061250</td>\n",
       "      <td>0.061250</td>\n",
       "      <td>1.569087</td>\n",
       "      <td>1.569087</td>\n",
       "      <td>0.613656</td>\n",
       "      <td>Flexure</td>\n",
       "      <td>0</td>\n",
       "    </tr>\n",
       "    <tr>\n",
       "      <th>...</th>\n",
       "      <td>...</td>\n",
       "      <td>...</td>\n",
       "      <td>...</td>\n",
       "      <td>...</td>\n",
       "      <td>...</td>\n",
       "      <td>...</td>\n",
       "      <td>...</td>\n",
       "      <td>...</td>\n",
       "      <td>...</td>\n",
       "      <td>...</td>\n",
       "      <td>...</td>\n",
       "      <td>...</td>\n",
       "      <td>...</td>\n",
       "      <td>...</td>\n",
       "    </tr>\n",
       "    <tr>\n",
       "      <th>238</th>\n",
       "      <td>0.027486</td>\n",
       "      <td>3.112500</td>\n",
       "      <td>0.064429</td>\n",
       "      <td>0.0966</td>\n",
       "      <td>0.0158</td>\n",
       "      <td>2</td>\n",
       "      <td>0</td>\n",
       "      <td>0.068750</td>\n",
       "      <td>0.068750</td>\n",
       "      <td>1.550964</td>\n",
       "      <td>1.550964</td>\n",
       "      <td>0.083306</td>\n",
       "      <td>Flexure</td>\n",
       "      <td>0</td>\n",
       "    </tr>\n",
       "    <tr>\n",
       "      <th>239</th>\n",
       "      <td>0.028608</td>\n",
       "      <td>3.112500</td>\n",
       "      <td>0.067059</td>\n",
       "      <td>0.1006</td>\n",
       "      <td>0.0158</td>\n",
       "      <td>2</td>\n",
       "      <td>0</td>\n",
       "      <td>0.068750</td>\n",
       "      <td>0.068750</td>\n",
       "      <td>1.550964</td>\n",
       "      <td>1.550964</td>\n",
       "      <td>0.086707</td>\n",
       "      <td>Flexure</td>\n",
       "      <td>0</td>\n",
       "    </tr>\n",
       "    <tr>\n",
       "      <th>240</th>\n",
       "      <td>0.029556</td>\n",
       "      <td>3.112500</td>\n",
       "      <td>0.069280</td>\n",
       "      <td>0.1039</td>\n",
       "      <td>0.0158</td>\n",
       "      <td>2</td>\n",
       "      <td>0</td>\n",
       "      <td>0.068750</td>\n",
       "      <td>0.068750</td>\n",
       "      <td>1.550964</td>\n",
       "      <td>1.550964</td>\n",
       "      <td>0.089580</td>\n",
       "      <td>Flexure</td>\n",
       "      <td>0</td>\n",
       "    </tr>\n",
       "    <tr>\n",
       "      <th>241</th>\n",
       "      <td>0.026664</td>\n",
       "      <td>3.112500</td>\n",
       "      <td>0.062503</td>\n",
       "      <td>0.0938</td>\n",
       "      <td>0.0158</td>\n",
       "      <td>2</td>\n",
       "      <td>0</td>\n",
       "      <td>0.068750</td>\n",
       "      <td>0.068750</td>\n",
       "      <td>1.550964</td>\n",
       "      <td>1.550964</td>\n",
       "      <td>0.080816</td>\n",
       "      <td>Flexure</td>\n",
       "      <td>0</td>\n",
       "    </tr>\n",
       "    <tr>\n",
       "      <th>242</th>\n",
       "      <td>0.027333</td>\n",
       "      <td>3.112500</td>\n",
       "      <td>0.064070</td>\n",
       "      <td>0.0961</td>\n",
       "      <td>0.0158</td>\n",
       "      <td>2</td>\n",
       "      <td>0</td>\n",
       "      <td>0.068750</td>\n",
       "      <td>0.068750</td>\n",
       "      <td>1.550964</td>\n",
       "      <td>1.550964</td>\n",
       "      <td>0.082842</td>\n",
       "      <td>Flexure</td>\n",
       "      <td>0</td>\n",
       "    </tr>\n",
       "  </tbody>\n",
       "</table>\n",
       "<p>243 rows × 14 columns</p>\n",
       "</div>"
      ],
      "text/plain": [
       "          ALF        AS      LRII    LRIC     Rho  CT  C      CRPa      CRPe  \\\n",
       "0    0.259740  2.181818  0.097150  0.1943  0.0179   7  2  0.072727  0.072727   \n",
       "1    0.213998  2.181818  0.054207  0.1084  0.0179   7  2  0.069091  0.069091   \n",
       "2    0.420020  2.181818  0.104867  0.2097  0.0179   4  2  0.072727  0.072727   \n",
       "3    0.599965  2.181818  0.095496  0.1910  0.0179   4  2  0.069091  0.069091   \n",
       "4    0.380032  4.000000  0.090983  0.1820  0.0151   4  2  0.061250  0.061250   \n",
       "..        ...       ...       ...     ...     ...  .. ..       ...       ...   \n",
       "238  0.027486  3.112500  0.064429  0.0966  0.0158   2  0  0.068750  0.068750   \n",
       "239  0.028608  3.112500  0.067059  0.1006  0.0158   2  0  0.068750  0.068750   \n",
       "240  0.029556  3.112500  0.069280  0.1039  0.0158   2  0  0.068750  0.068750   \n",
       "241  0.026664  3.112500  0.062503  0.0938  0.0158   2  0  0.068750  0.068750   \n",
       "242  0.027333  3.112500  0.064070  0.0961  0.0158   2  0  0.068750  0.068750   \n",
       "\n",
       "          DLI       DLC       TRI  Failure  Failure_N  \n",
       "0    1.694933  1.694933  0.367347  Flexure          0  \n",
       "1    1.694933  1.694933  0.334973  Flexure          0  \n",
       "2    1.694933  1.694933  0.422964  Flexure          0  \n",
       "3    1.694933  1.694933  0.664159  Flexure          0  \n",
       "4    1.569087  1.569087  0.613656  Flexure          0  \n",
       "..        ...       ...       ...      ...        ...  \n",
       "238  1.550964  1.550964  0.083306  Flexure          0  \n",
       "239  1.550964  1.550964  0.086707  Flexure          0  \n",
       "240  1.550964  1.550964  0.089580  Flexure          0  \n",
       "241  1.550964  1.550964  0.080816  Flexure          0  \n",
       "242  1.550964  1.550964  0.082842  Flexure          0  \n",
       "\n",
       "[243 rows x 14 columns]"
      ]
     },
     "execution_count": 15,
     "metadata": {},
     "output_type": "execute_result"
    }
   ],
   "source": [
    "# We have to convert the data into numbers\n",
    "from sklearn.preprocessing import LabelEncoder\n",
    "le=LabelEncoder()\n",
    "Failure_N=le.fit_transform(Col_Data['Failure'])\n",
    "C_N=le.fit_transform(Col_Data['C'])\n",
    "\n",
    "#Adding the to the dataframe\n",
    "Col_Data['Failure_N'], Col_Data['C']=Failure_N,C_N\n",
    "Col_Data"
   ]
  },
  {
   "cell_type": "code",
   "execution_count": 16,
   "id": "83108276-7f7e-436e-bc80-e8ff98c98036",
   "metadata": {},
   "outputs": [],
   "source": [
    "from sklearn.model_selection import train_test_split\n",
    "x=Col_Data.drop(['Failure','Failure_N'],axis=1)\n",
    "y=Col_Data['Failure_N']"
   ]
  },
  {
   "cell_type": "code",
   "execution_count": 17,
   "id": "10f13f48-4ff0-4acc-bc42-64427147ff03",
   "metadata": {},
   "outputs": [],
   "source": [
    "from imblearn.over_sampling import SMOTE\n",
    "smote=SMOTE()"
   ]
  },
  {
   "cell_type": "code",
   "execution_count": 18,
   "id": "d9eba48d-3c0f-4a9f-af3f-d44e7e988121",
   "metadata": {},
   "outputs": [],
   "source": [
    "x_smote,y_smote=smote.fit_resample(x,y)"
   ]
  },
  {
   "cell_type": "code",
   "execution_count": 19,
   "id": "0dde8539-4467-4e86-ac3f-6be102f5ef74",
   "metadata": {},
   "outputs": [],
   "source": [
    "x_train,x_test,y_train,y_test=train_test_split(x_smote,y_smote,test_size=0.2,random_state=10)"
   ]
  },
  {
   "cell_type": "code",
   "execution_count": 20,
   "id": "8126b01d-a4b5-4d8d-9763-f757de9abc4a",
   "metadata": {},
   "outputs": [
    {
     "name": "stdout",
     "output_type": "stream",
     "text": [
      "Before SMOTE: Counter({0: 191, 1: 34, 2: 18})\n",
      "After SMOTE: Counter({0: 191, 2: 191, 1: 191})\n"
     ]
    }
   ],
   "source": [
    "from collections import Counter\n",
    "print('Before SMOTE:',Counter(y))\n",
    "print('After SMOTE:',Counter(y_smote))"
   ]
  },
  {
   "cell_type": "markdown",
   "id": "c3068f58-ac04-40d7-aefb-d4ec1651fa24",
   "metadata": {},
   "source": [
    "### Training the model with SVM"
   ]
  },
  {
   "cell_type": "code",
   "execution_count": 21,
   "id": "daa2060f-cf32-4933-8fa7-d45a307d37f6",
   "metadata": {},
   "outputs": [],
   "source": [
    "from sklearn import svm\n",
    "np.random.seed(42)\n",
    "model=svm.SVC(probability=True)"
   ]
  },
  {
   "cell_type": "code",
   "execution_count": 22,
   "id": "de39c2b1-7e87-4748-8aa4-a4ecc4fe65aa",
   "metadata": {},
   "outputs": [
    {
     "data": {
      "text/html": [
       "<style>#sk-container-id-1 {color: black;background-color: white;}#sk-container-id-1 pre{padding: 0;}#sk-container-id-1 div.sk-toggleable {background-color: white;}#sk-container-id-1 label.sk-toggleable__label {cursor: pointer;display: block;width: 100%;margin-bottom: 0;padding: 0.3em;box-sizing: border-box;text-align: center;}#sk-container-id-1 label.sk-toggleable__label-arrow:before {content: \"▸\";float: left;margin-right: 0.25em;color: #696969;}#sk-container-id-1 label.sk-toggleable__label-arrow:hover:before {color: black;}#sk-container-id-1 div.sk-estimator:hover label.sk-toggleable__label-arrow:before {color: black;}#sk-container-id-1 div.sk-toggleable__content {max-height: 0;max-width: 0;overflow: hidden;text-align: left;background-color: #f0f8ff;}#sk-container-id-1 div.sk-toggleable__content pre {margin: 0.2em;color: black;border-radius: 0.25em;background-color: #f0f8ff;}#sk-container-id-1 input.sk-toggleable__control:checked~div.sk-toggleable__content {max-height: 200px;max-width: 100%;overflow: auto;}#sk-container-id-1 input.sk-toggleable__control:checked~label.sk-toggleable__label-arrow:before {content: \"▾\";}#sk-container-id-1 div.sk-estimator input.sk-toggleable__control:checked~label.sk-toggleable__label {background-color: #d4ebff;}#sk-container-id-1 div.sk-label input.sk-toggleable__control:checked~label.sk-toggleable__label {background-color: #d4ebff;}#sk-container-id-1 input.sk-hidden--visually {border: 0;clip: rect(1px 1px 1px 1px);clip: rect(1px, 1px, 1px, 1px);height: 1px;margin: -1px;overflow: hidden;padding: 0;position: absolute;width: 1px;}#sk-container-id-1 div.sk-estimator {font-family: monospace;background-color: #f0f8ff;border: 1px dotted black;border-radius: 0.25em;box-sizing: border-box;margin-bottom: 0.5em;}#sk-container-id-1 div.sk-estimator:hover {background-color: #d4ebff;}#sk-container-id-1 div.sk-parallel-item::after {content: \"\";width: 100%;border-bottom: 1px solid gray;flex-grow: 1;}#sk-container-id-1 div.sk-label:hover label.sk-toggleable__label {background-color: #d4ebff;}#sk-container-id-1 div.sk-serial::before {content: \"\";position: absolute;border-left: 1px solid gray;box-sizing: border-box;top: 0;bottom: 0;left: 50%;z-index: 0;}#sk-container-id-1 div.sk-serial {display: flex;flex-direction: column;align-items: center;background-color: white;padding-right: 0.2em;padding-left: 0.2em;position: relative;}#sk-container-id-1 div.sk-item {position: relative;z-index: 1;}#sk-container-id-1 div.sk-parallel {display: flex;align-items: stretch;justify-content: center;background-color: white;position: relative;}#sk-container-id-1 div.sk-item::before, #sk-container-id-1 div.sk-parallel-item::before {content: \"\";position: absolute;border-left: 1px solid gray;box-sizing: border-box;top: 0;bottom: 0;left: 50%;z-index: -1;}#sk-container-id-1 div.sk-parallel-item {display: flex;flex-direction: column;z-index: 1;position: relative;background-color: white;}#sk-container-id-1 div.sk-parallel-item:first-child::after {align-self: flex-end;width: 50%;}#sk-container-id-1 div.sk-parallel-item:last-child::after {align-self: flex-start;width: 50%;}#sk-container-id-1 div.sk-parallel-item:only-child::after {width: 0;}#sk-container-id-1 div.sk-dashed-wrapped {border: 1px dashed gray;margin: 0 0.4em 0.5em 0.4em;box-sizing: border-box;padding-bottom: 0.4em;background-color: white;}#sk-container-id-1 div.sk-label label {font-family: monospace;font-weight: bold;display: inline-block;line-height: 1.2em;}#sk-container-id-1 div.sk-label-container {text-align: center;}#sk-container-id-1 div.sk-container {/* jupyter's `normalize.less` sets `[hidden] { display: none; }` but bootstrap.min.css set `[hidden] { display: none !important; }` so we also need the `!important` here to be able to override the default hidden behavior on the sphinx rendered scikit-learn.org. See: https://github.com/scikit-learn/scikit-learn/issues/21755 */display: inline-block !important;position: relative;}#sk-container-id-1 div.sk-text-repr-fallback {display: none;}</style><div id=\"sk-container-id-1\" class=\"sk-top-container\"><div class=\"sk-text-repr-fallback\"><pre>SVC(probability=True)</pre><b>In a Jupyter environment, please rerun this cell to show the HTML representation or trust the notebook. <br />On GitHub, the HTML representation is unable to render, please try loading this page with nbviewer.org.</b></div><div class=\"sk-container\" hidden><div class=\"sk-item\"><div class=\"sk-estimator sk-toggleable\"><input class=\"sk-toggleable__control sk-hidden--visually\" id=\"sk-estimator-id-1\" type=\"checkbox\" checked><label for=\"sk-estimator-id-1\" class=\"sk-toggleable__label sk-toggleable__label-arrow\">SVC</label><div class=\"sk-toggleable__content\"><pre>SVC(probability=True)</pre></div></div></div></div></div>"
      ],
      "text/plain": [
       "SVC(probability=True)"
      ]
     },
     "execution_count": 22,
     "metadata": {},
     "output_type": "execute_result"
    }
   ],
   "source": [
    "model.fit(x_train,y_train)"
   ]
  },
  {
   "cell_type": "markdown",
   "id": "c80b02f3-2ad0-4c11-8599-09160b4f8638",
   "metadata": {},
   "source": [
    "### Evaluation by Score method"
   ]
  },
  {
   "cell_type": "code",
   "execution_count": 23,
   "id": "f5e3648a-b173-4d2e-8f27-fd395b3a7dae",
   "metadata": {},
   "outputs": [
    {
     "data": {
      "text/plain": [
       "0.7130434782608696"
      ]
     },
     "execution_count": 23,
     "metadata": {},
     "output_type": "execute_result"
    }
   ],
   "source": [
    "model.score(x_test,y_test)"
   ]
  },
  {
   "cell_type": "markdown",
   "id": "349a3c73-9df8-4fdf-9c5a-e93aed90d2eb",
   "metadata": {},
   "source": [
    "### Evaluation By Cross Validation"
   ]
  },
  {
   "cell_type": "code",
   "execution_count": 24,
   "id": "7bbccd0f-e3c8-4af7-bc24-14ac69af6f34",
   "metadata": {},
   "outputs": [
    {
     "data": {
      "text/plain": [
       "array([0.79591837, 0.7755102 , 0.7755102 , 0.79166667, 0.45833333])"
      ]
     },
     "execution_count": 24,
     "metadata": {},
     "output_type": "execute_result"
    }
   ],
   "source": [
    "from sklearn.model_selection import cross_val_score\n",
    "cross_val_score=cross_val_score(model,x,y,cv=5)\n",
    "cross_val_score"
   ]
  },
  {
   "cell_type": "code",
   "execution_count": 25,
   "id": "865ee994-06ee-4350-863d-1918c8776e17",
   "metadata": {},
   "outputs": [
    {
     "data": {
      "text/plain": [
       "0.7193877551020409"
      ]
     },
     "execution_count": 25,
     "metadata": {},
     "output_type": "execute_result"
    }
   ],
   "source": [
    "np.mean(cross_val_score)"
   ]
  },
  {
   "cell_type": "markdown",
   "id": "29ab0612-e940-49e6-aa47-dc19d4a47c88",
   "metadata": {},
   "source": [
    "### Confusion Matrix"
   ]
  },
  {
   "cell_type": "code",
   "execution_count": 26,
   "id": "df61bd28-2353-47ff-ad6c-90cd74e94424",
   "metadata": {},
   "outputs": [],
   "source": [
    "from sklearn.metrics import confusion_matrix\n",
    "y_preds=model.predict(x_test)\n",
    "conf_mat=confusion_matrix(y_test,y_preds)"
   ]
  },
  {
   "cell_type": "code",
   "execution_count": 27,
   "id": "d72a7b2e-7929-477b-8cf5-061a7b368dda",
   "metadata": {},
   "outputs": [
    {
     "data": {
      "text/html": [
       "<div>\n",
       "<style scoped>\n",
       "    .dataframe tbody tr th:only-of-type {\n",
       "        vertical-align: middle;\n",
       "    }\n",
       "\n",
       "    .dataframe tbody tr th {\n",
       "        vertical-align: top;\n",
       "    }\n",
       "\n",
       "    .dataframe thead th {\n",
       "        text-align: right;\n",
       "    }\n",
       "</style>\n",
       "<table border=\"1\" class=\"dataframe\">\n",
       "  <thead>\n",
       "    <tr style=\"text-align: right;\">\n",
       "      <th>Predicted Labels</th>\n",
       "      <th>0</th>\n",
       "      <th>1</th>\n",
       "      <th>2</th>\n",
       "    </tr>\n",
       "    <tr>\n",
       "      <th>Actual Label</th>\n",
       "      <th></th>\n",
       "      <th></th>\n",
       "      <th></th>\n",
       "    </tr>\n",
       "  </thead>\n",
       "  <tbody>\n",
       "    <tr>\n",
       "      <th>0</th>\n",
       "      <td>26</td>\n",
       "      <td>4</td>\n",
       "      <td>11</td>\n",
       "    </tr>\n",
       "    <tr>\n",
       "      <th>1</th>\n",
       "      <td>0</td>\n",
       "      <td>27</td>\n",
       "      <td>12</td>\n",
       "    </tr>\n",
       "    <tr>\n",
       "      <th>2</th>\n",
       "      <td>0</td>\n",
       "      <td>6</td>\n",
       "      <td>29</td>\n",
       "    </tr>\n",
       "  </tbody>\n",
       "</table>\n",
       "</div>"
      ],
      "text/plain": [
       "Predicted Labels   0   1   2\n",
       "Actual Label                \n",
       "0                 26   4  11\n",
       "1                  0  27  12\n",
       "2                  0   6  29"
      ]
     },
     "execution_count": 27,
     "metadata": {},
     "output_type": "execute_result"
    }
   ],
   "source": [
    "#visualize the confusion matrix with pd.crosstab()\n",
    "pd.crosstab(y_test,y_preds,\n",
    "            rownames=['Actual Label'],\n",
    "            colnames=['Predicted Labels'])"
   ]
  },
  {
   "cell_type": "code",
   "execution_count": 28,
   "id": "40d8204f-cc2e-4aa3-9079-386f5f6471b9",
   "metadata": {
    "tags": []
   },
   "outputs": [
    {
     "name": "stdout",
     "output_type": "stream",
     "text": [
      "Collecting package metadata (current_repodata.json): done\n",
      "Solving environment: done\n",
      "\n",
      "\n",
      "==> WARNING: A newer version of conda exists. <==\n",
      "  current version: 23.3.1\n",
      "  latest version: 23.7.4\n",
      "\n",
      "Please update conda by running\n",
      "\n",
      "    $ conda update -n base -c defaults conda\n",
      "\n",
      "Or to minimize the number of packages updated during conda update use\n",
      "\n",
      "     conda install conda=23.7.4\n",
      "\n",
      "\n",
      "\n",
      "## Package Plan ##\n",
      "\n",
      "  environment location: /Users/elman/Documents/sample_project/env\n",
      "\n",
      "  added / updated specs:\n",
      "    - seaborn\n",
      "\n",
      "\n",
      "The following packages will be downloaded:\n",
      "\n",
      "    package                    |            build\n",
      "    ---------------------------|-----------------\n",
      "    ca-certificates-2023.08.22 |       hecd8cb5_0         124 KB\n",
      "    openssl-3.0.11             |       hca72f7f_2         4.5 MB\n",
      "    ------------------------------------------------------------\n",
      "                                           Total:         4.6 MB\n",
      "\n",
      "The following packages will be UPDATED:\n",
      "\n",
      "  ca-certificates                     2023.05.30-hecd8cb5_0 --> 2023.08.22-hecd8cb5_0 \n",
      "  openssl                                 3.0.10-hca72f7f_2 --> 3.0.11-hca72f7f_2 \n",
      "\n",
      "\n",
      "\n",
      "Downloading and Extracting Packages\n",
      "openssl-3.0.11       | 4.5 MB    |                                       |   0% \n",
      "openssl-3.0.11       | 4.5 MB    | 1                                     |   0% \u001b[A\n",
      "openssl-3.0.11       | 4.5 MB    | 3                                     |   1% \u001b[A\n",
      "ca-certificates-2023 | 124 KB    | #########5                            |  26% \u001b[A\n",
      "                                                                                \u001b[A\n",
      "                                                                                \u001b[A\n",
      "Preparing transaction: done\n",
      "Verifying transaction: done\n",
      "Executing transaction: done\n"
     ]
    }
   ],
   "source": [
    "import sys\n",
    "!conda install --yes --prefix {sys.prefix} seaborn"
   ]
  },
  {
   "cell_type": "code",
   "execution_count": 29,
   "id": "f2e5e19c-4218-4b7b-9185-5d035432a479",
   "metadata": {},
   "outputs": [],
   "source": [
    "# Let's make our confusion matrix more visual with seaborn's heatmap\n",
    "import seaborn as sns\n",
    "\n",
    "#set the font scale\n",
    "sns.set(font_scale=1.5)"
   ]
  },
  {
   "cell_type": "code",
   "execution_count": 30,
   "id": "547fa4b9-8046-4a8a-bca5-f7d69d0aed03",
   "metadata": {},
   "outputs": [
    {
     "data": {
      "image/png": "[encoded data removed]",
      "text/plain": [
       "<Figure size 300x300 with 1 Axes>"
      ]
     },
     "metadata": {},
     "output_type": "display_data"
    }
   ],
   "source": [
    "# creating a function for the confusion matrix\n",
    "def plot_conf_mat(conf_mat):\n",
    "    \"\"\"plots a confusion matrix using seabor's heatmap().\"\"\"\n",
    "    fig,ax=plt.subplots(figsize=(3,3))\n",
    "    ax=sns.heatmap(conf_mat,annot=True,\n",
    "                  #Annotate the boxes with conf_mat info,\n",
    "                  cbar=False)\n",
    "    plt.xlabel('True label')\n",
    "    plt.ylabel('Predicted label');\n",
    "\n",
    "plot_conf_mat(conf_mat)"
   ]
  },
  {
   "cell_type": "code",
   "execution_count": 31,
   "id": "72406199-f603-413d-a966-c0e0c673cf96",
   "metadata": {},
   "outputs": [
    {
     "data": {
      "text/plain": [
       "115"
      ]
     },
     "execution_count": 31,
     "metadata": {},
     "output_type": "execute_result"
    }
   ],
   "source": [
    "len(x_test)"
   ]
  },
  {
   "cell_type": "markdown",
   "id": "80b763e7-4e1f-448f-b9d4-3b2a46beac23",
   "metadata": {},
   "source": [
    "### Hyperparameter tuning"
   ]
  },
  {
   "cell_type": "code",
   "execution_count": 32,
   "id": "f7ed825b-bd05-4291-9f0a-42d824d2f706",
   "metadata": {},
   "outputs": [
    {
     "data": {
      "text/plain": [
       "{'C': 1.0,\n",
       " 'break_ties': False,\n",
       " 'cache_size': 200,\n",
       " 'class_weight': None,\n",
       " 'coef0': 0.0,\n",
       " 'decision_function_shape': 'ovr',\n",
       " 'degree': 3,\n",
       " 'gamma': 'scale',\n",
       " 'kernel': 'rbf',\n",
       " 'max_iter': -1,\n",
       " 'probability': True,\n",
       " 'random_state': None,\n",
       " 'shrinking': True,\n",
       " 'tol': 0.001,\n",
       " 'verbose': False}"
      ]
     },
     "execution_count": 32,
     "metadata": {},
     "output_type": "execute_result"
    }
   ],
   "source": [
    "model.get_params()"
   ]
  },
  {
   "cell_type": "markdown",
   "id": "b425881e-8ba4-4270-ab3b-b3057d721cf4",
   "metadata": {},
   "source": [
    "### Creating a new support vector machines model for hyperparameter tuning\n",
    "This is going to be done by manually tweaking the hyperparameter values."
   ]
  },
  {
   "cell_type": "code",
   "execution_count": 33,
   "id": "7b25be22-9910-4a75-9d2e-45cd08e3e02d",
   "metadata": {},
   "outputs": [
    {
     "data": {
      "text/html": [
       "<style>#sk-container-id-2 {color: black;background-color: white;}#sk-container-id-2 pre{padding: 0;}#sk-container-id-2 div.sk-toggleable {background-color: white;}#sk-container-id-2 label.sk-toggleable__label {cursor: pointer;display: block;width: 100%;margin-bottom: 0;padding: 0.3em;box-sizing: border-box;text-align: center;}#sk-container-id-2 label.sk-toggleable__label-arrow:before {content: \"▸\";float: left;margin-right: 0.25em;color: #696969;}#sk-container-id-2 label.sk-toggleable__label-arrow:hover:before {color: black;}#sk-container-id-2 div.sk-estimator:hover label.sk-toggleable__label-arrow:before {color: black;}#sk-container-id-2 div.sk-toggleable__content {max-height: 0;max-width: 0;overflow: hidden;text-align: left;background-color: #f0f8ff;}#sk-container-id-2 div.sk-toggleable__content pre {margin: 0.2em;color: black;border-radius: 0.25em;background-color: #f0f8ff;}#sk-container-id-2 input.sk-toggleable__control:checked~div.sk-toggleable__content {max-height: 200px;max-width: 100%;overflow: auto;}#sk-container-id-2 input.sk-toggleable__control:checked~label.sk-toggleable__label-arrow:before {content: \"▾\";}#sk-container-id-2 div.sk-estimator input.sk-toggleable__control:checked~label.sk-toggleable__label {background-color: #d4ebff;}#sk-container-id-2 div.sk-label input.sk-toggleable__control:checked~label.sk-toggleable__label {background-color: #d4ebff;}#sk-container-id-2 input.sk-hidden--visually {border: 0;clip: rect(1px 1px 1px 1px);clip: rect(1px, 1px, 1px, 1px);height: 1px;margin: -1px;overflow: hidden;padding: 0;position: absolute;width: 1px;}#sk-container-id-2 div.sk-estimator {font-family: monospace;background-color: #f0f8ff;border: 1px dotted black;border-radius: 0.25em;box-sizing: border-box;margin-bottom: 0.5em;}#sk-container-id-2 div.sk-estimator:hover {background-color: #d4ebff;}#sk-container-id-2 div.sk-parallel-item::after {content: \"\";width: 100%;border-bottom: 1px solid gray;flex-grow: 1;}#sk-container-id-2 div.sk-label:hover label.sk-toggleable__label {background-color: #d4ebff;}#sk-container-id-2 div.sk-serial::before {content: \"\";position: absolute;border-left: 1px solid gray;box-sizing: border-box;top: 0;bottom: 0;left: 50%;z-index: 0;}#sk-container-id-2 div.sk-serial {display: flex;flex-direction: column;align-items: center;background-color: white;padding-right: 0.2em;padding-left: 0.2em;position: relative;}#sk-container-id-2 div.sk-item {position: relative;z-index: 1;}#sk-container-id-2 div.sk-parallel {display: flex;align-items: stretch;justify-content: center;background-color: white;position: relative;}#sk-container-id-2 div.sk-item::before, #sk-container-id-2 div.sk-parallel-item::before {content: \"\";position: absolute;border-left: 1px solid gray;box-sizing: border-box;top: 0;bottom: 0;left: 50%;z-index: -1;}#sk-container-id-2 div.sk-parallel-item {display: flex;flex-direction: column;z-index: 1;position: relative;background-color: white;}#sk-container-id-2 div.sk-parallel-item:first-child::after {align-self: flex-end;width: 50%;}#sk-container-id-2 div.sk-parallel-item:last-child::after {align-self: flex-start;width: 50%;}#sk-container-id-2 div.sk-parallel-item:only-child::after {width: 0;}#sk-container-id-2 div.sk-dashed-wrapped {border: 1px dashed gray;margin: 0 0.4em 0.5em 0.4em;box-sizing: border-box;padding-bottom: 0.4em;background-color: white;}#sk-container-id-2 div.sk-label label {font-family: monospace;font-weight: bold;display: inline-block;line-height: 1.2em;}#sk-container-id-2 div.sk-label-container {text-align: center;}#sk-container-id-2 div.sk-container {/* jupyter's `normalize.less` sets `[hidden] { display: none; }` but bootstrap.min.css set `[hidden] { display: none !important; }` so we also need the `!important` here to be able to override the default hidden behavior on the sphinx rendered scikit-learn.org. See: https://github.com/scikit-learn/scikit-learn/issues/21755 */display: inline-block !important;position: relative;}#sk-container-id-2 div.sk-text-repr-fallback {display: none;}</style><div id=\"sk-container-id-2\" class=\"sk-top-container\"><div class=\"sk-text-repr-fallback\"><pre>SVC(C=20, gamma=0.35, probability=True)</pre><b>In a Jupyter environment, please rerun this cell to show the HTML representation or trust the notebook. <br />On GitHub, the HTML representation is unable to render, please try loading this page with nbviewer.org.</b></div><div class=\"sk-container\" hidden><div class=\"sk-item\"><div class=\"sk-estimator sk-toggleable\"><input class=\"sk-toggleable__control sk-hidden--visually\" id=\"sk-estimator-id-2\" type=\"checkbox\" checked><label for=\"sk-estimator-id-2\" class=\"sk-toggleable__label sk-toggleable__label-arrow\">SVC</label><div class=\"sk-toggleable__content\"><pre>SVC(C=20, gamma=0.35, probability=True)</pre></div></div></div></div></div>"
      ],
      "text/plain": [
       "SVC(C=20, gamma=0.35, probability=True)"
      ]
     },
     "execution_count": 33,
     "metadata": {},
     "output_type": "execute_result"
    }
   ],
   "source": [
    "new_model=svm.SVC(probability=True,C=20,gamma=0.35)\n",
    "new_model.fit(x_train,y_train)"
   ]
  },
  {
   "cell_type": "code",
   "execution_count": 34,
   "id": "3342bc82-f06e-4643-9e6e-5110af834b8d",
   "metadata": {},
   "outputs": [
    {
     "data": {
      "text/plain": [
       "0.9565217391304348"
      ]
     },
     "execution_count": 34,
     "metadata": {},
     "output_type": "execute_result"
    }
   ],
   "source": [
    "new_model.score(x_test,y_test)"
   ]
  },
  {
   "cell_type": "code",
   "execution_count": 35,
   "id": "06e7e0e9-3c14-4f4a-8527-6c91be247456",
   "metadata": {},
   "outputs": [
    {
     "data": {
      "text/html": [
       "<div>\n",
       "<style scoped>\n",
       "    .dataframe tbody tr th:only-of-type {\n",
       "        vertical-align: middle;\n",
       "    }\n",
       "\n",
       "    .dataframe tbody tr th {\n",
       "        vertical-align: top;\n",
       "    }\n",
       "\n",
       "    .dataframe thead th {\n",
       "        text-align: right;\n",
       "    }\n",
       "</style>\n",
       "<table border=\"1\" class=\"dataframe\">\n",
       "  <thead>\n",
       "    <tr style=\"text-align: right;\">\n",
       "      <th>Predicted Labels</th>\n",
       "      <th>0</th>\n",
       "      <th>1</th>\n",
       "      <th>2</th>\n",
       "    </tr>\n",
       "    <tr>\n",
       "      <th>Actual Label</th>\n",
       "      <th></th>\n",
       "      <th></th>\n",
       "      <th></th>\n",
       "    </tr>\n",
       "  </thead>\n",
       "  <tbody>\n",
       "    <tr>\n",
       "      <th>0</th>\n",
       "      <td>39</td>\n",
       "      <td>2</td>\n",
       "      <td>0</td>\n",
       "    </tr>\n",
       "    <tr>\n",
       "      <th>1</th>\n",
       "      <td>0</td>\n",
       "      <td>37</td>\n",
       "      <td>2</td>\n",
       "    </tr>\n",
       "    <tr>\n",
       "      <th>2</th>\n",
       "      <td>0</td>\n",
       "      <td>1</td>\n",
       "      <td>34</td>\n",
       "    </tr>\n",
       "  </tbody>\n",
       "</table>\n",
       "</div>"
      ],
      "text/plain": [
       "Predicted Labels   0   1   2\n",
       "Actual Label                \n",
       "0                 39   2   0\n",
       "1                  0  37   2\n",
       "2                  0   1  34"
      ]
     },
     "execution_count": 35,
     "metadata": {},
     "output_type": "execute_result"
    }
   ],
   "source": [
    "y_preds=new_model.predict(x_test)\n",
    "conf_mat2=confusion_matrix(y_test,y_preds)\n",
    "pd.crosstab(y_test,y_preds,\n",
    "            rownames=['Actual Label'],\n",
    "            colnames=['Predicted Labels'])"
   ]
  },
  {
   "cell_type": "code",
   "execution_count": 36,
   "id": "dba4f989-6c61-43fc-8404-c1a16f95d9c1",
   "metadata": {},
   "outputs": [
    {
     "data": {
      "image/png": "[encoded data removed]",
      "text/plain": [
       "<Figure size 300x300 with 1 Axes>"
      ]
     },
     "metadata": {},
     "output_type": "display_data"
    }
   ],
   "source": [
    "# creating a function for the confusion matrix\n",
    "def plot_conf_mat(conf_mat2):\n",
    "    \"\"\"plots a confusion matrix using seabor's heatmap().\"\"\"\n",
    "    fig,ax=plt.subplots(figsize=(3,3))\n",
    "    ax=sns.heatmap(conf_mat2,annot=True,\n",
    "                  #Annotate the boxes with conf_mat info,\n",
    "                  cbar=False)\n",
    "    plt.xlabel('True label')\n",
    "    plt.ylabel('Predicted label');\n",
    "\n",
    "plot_conf_mat(conf_mat2)"
   ]
  },
  {
   "cell_type": "markdown",
   "id": "7c77936e-3eeb-488a-a0c5-8fb183cffe27",
   "metadata": {},
   "source": [
    "### Using GridSearchCV for the hyperparameter tuning\n",
    "This automatically finds the best values for the chosen hyperparameters depending on the set range of hyperparameter values."
   ]
  },
  {
   "cell_type": "code",
   "execution_count": 37,
   "id": "a92ba49a-691d-460f-b6b8-02b39732e58c",
   "metadata": {
    "tags": []
   },
   "outputs": [
    {
     "name": "stdout",
     "output_type": "stream",
     "text": [
      "Fitting 5 folds for each of 18 candidates, totalling 90 fits\n",
      "[CV] END .................C=0.0001, gamma=0.1, kernel=linear; total time=   0.0s\n",
      "[CV] END .................C=0.0001, gamma=0.1, kernel=linear; total time=   0.0s\n",
      "[CV] END .................C=0.0001, gamma=0.1, kernel=linear; total time=   0.0s\n",
      "[CV] END .................C=0.0001, gamma=0.1, kernel=linear; total time=   0.0s\n",
      "[CV] END .................C=0.0001, gamma=0.1, kernel=linear; total time=   0.0s\n",
      "[CV] END ....................C=0.0001, gamma=0.1, kernel=rbf; total time=   0.0s\n",
      "[CV] END ....................C=0.0001, gamma=0.1, kernel=rbf; total time=   0.0s\n",
      "[CV] END ....................C=0.0001, gamma=0.1, kernel=rbf; total time=   0.0s\n",
      "[CV] END ....................C=0.0001, gamma=0.1, kernel=rbf; total time=   0.0s\n",
      "[CV] END ....................C=0.0001, gamma=0.1, kernel=rbf; total time=   0.0s\n",
      "[CV] END ...................C=0.0001, gamma=4, kernel=linear; total time=   0.0s\n",
      "[CV] END ...................C=0.0001, gamma=4, kernel=linear; total time=   0.0s\n",
      "[CV] END ...................C=0.0001, gamma=4, kernel=linear; total time=   0.0s\n",
      "[CV] END ...................C=0.0001, gamma=4, kernel=linear; total time=   0.0s\n",
      "[CV] END ...................C=0.0001, gamma=4, kernel=linear; total time=   0.0s\n",
      "[CV] END ......................C=0.0001, gamma=4, kernel=rbf; total time=   0.0s\n",
      "[CV] END ......................C=0.0001, gamma=4, kernel=rbf; total time=   0.0s\n",
      "[CV] END ......................C=0.0001, gamma=4, kernel=rbf; total time=   0.0s\n",
      "[CV] END ......................C=0.0001, gamma=4, kernel=rbf; total time=   0.0s\n",
      "[CV] END ......................C=0.0001, gamma=4, kernel=rbf; total time=   0.0s\n",
      "[CV] END ..................C=0.0001, gamma=10, kernel=linear; total time=   0.0s\n",
      "[CV] END ..................C=0.0001, gamma=10, kernel=linear; total time=   0.0s\n",
      "[CV] END ..................C=0.0001, gamma=10, kernel=linear; total time=   0.0s\n",
      "[CV] END ..................C=0.0001, gamma=10, kernel=linear; total time=   0.0s\n",
      "[CV] END ..................C=0.0001, gamma=10, kernel=linear; total time=   0.0s\n",
      "[CV] END .....................C=0.0001, gamma=10, kernel=rbf; total time=   0.0s\n",
      "[CV] END .....................C=0.0001, gamma=10, kernel=rbf; total time=   0.0s\n",
      "[CV] END .....................C=0.0001, gamma=10, kernel=rbf; total time=   0.0s\n",
      "[CV] END .....................C=0.0001, gamma=10, kernel=rbf; total time=   0.0s\n",
      "[CV] END .....................C=0.0001, gamma=10, kernel=rbf; total time=   0.0s\n",
      "[CV] END ......................C=1, gamma=0.1, kernel=linear; total time=   0.0s\n",
      "[CV] END ......................C=1, gamma=0.1, kernel=linear; total time=   0.0s\n",
      "[CV] END ......................C=1, gamma=0.1, kernel=linear; total time=   0.0s\n",
      "[CV] END ......................C=1, gamma=0.1, kernel=linear; total time=   0.0s\n",
      "[CV] END ......................C=1, gamma=0.1, kernel=linear; total time=   0.0s\n",
      "[CV] END .........................C=1, gamma=0.1, kernel=rbf; total time=   0.0s\n",
      "[CV] END .........................C=1, gamma=0.1, kernel=rbf; total time=   0.0s\n",
      "[CV] END .........................C=1, gamma=0.1, kernel=rbf; total time=   0.0s\n",
      "[CV] END .........................C=1, gamma=0.1, kernel=rbf; total time=   0.0s\n",
      "[CV] END .........................C=1, gamma=0.1, kernel=rbf; total time=   0.0s\n",
      "[CV] END ........................C=1, gamma=4, kernel=linear; total time=   0.0s\n",
      "[CV] END ........................C=1, gamma=4, kernel=linear; total time=   0.0s\n",
      "[CV] END ........................C=1, gamma=4, kernel=linear; total time=   0.0s\n",
      "[CV] END ........................C=1, gamma=4, kernel=linear; total time=   0.0s\n",
      "[CV] END ........................C=1, gamma=4, kernel=linear; total time=   0.0s\n",
      "[CV] END ...........................C=1, gamma=4, kernel=rbf; total time=   0.0s\n",
      "[CV] END ...........................C=1, gamma=4, kernel=rbf; total time=   0.0s\n",
      "[CV] END ...........................C=1, gamma=4, kernel=rbf; total time=   0.0s\n",
      "[CV] END ...........................C=1, gamma=4, kernel=rbf; total time=   0.0s\n",
      "[CV] END ...........................C=1, gamma=4, kernel=rbf; total time=   0.0s\n",
      "[CV] END .......................C=1, gamma=10, kernel=linear; total time=   0.0s\n",
      "[CV] END .......................C=1, gamma=10, kernel=linear; total time=   0.0s\n",
      "[CV] END .......................C=1, gamma=10, kernel=linear; total time=   0.0s\n",
      "[CV] END .......................C=1, gamma=10, kernel=linear; total time=   0.0s\n",
      "[CV] END .......................C=1, gamma=10, kernel=linear; total time=   0.0s\n",
      "[CV] END ..........................C=1, gamma=10, kernel=rbf; total time=   0.0s\n",
      "[CV] END ..........................C=1, gamma=10, kernel=rbf; total time=   0.0s\n",
      "[CV] END ..........................C=1, gamma=10, kernel=rbf; total time=   0.0s\n",
      "[CV] END ..........................C=1, gamma=10, kernel=rbf; total time=   0.0s\n",
      "[CV] END ..........................C=1, gamma=10, kernel=rbf; total time=   0.0s\n",
      "[CV] END .....................C=20, gamma=0.1, kernel=linear; total time=   0.0s\n",
      "[CV] END .....................C=20, gamma=0.1, kernel=linear; total time=   0.0s\n",
      "[CV] END .....................C=20, gamma=0.1, kernel=linear; total time=   0.0s\n",
      "[CV] END .....................C=20, gamma=0.1, kernel=linear; total time=   0.0s\n",
      "[CV] END .....................C=20, gamma=0.1, kernel=linear; total time=   0.0s\n",
      "[CV] END ........................C=20, gamma=0.1, kernel=rbf; total time=   0.0s\n",
      "[CV] END ........................C=20, gamma=0.1, kernel=rbf; total time=   0.0s\n",
      "[CV] END ........................C=20, gamma=0.1, kernel=rbf; total time=   0.0s\n",
      "[CV] END ........................C=20, gamma=0.1, kernel=rbf; total time=   0.0s\n",
      "[CV] END ........................C=20, gamma=0.1, kernel=rbf; total time=   0.0s\n",
      "[CV] END .......................C=20, gamma=4, kernel=linear; total time=   0.0s\n",
      "[CV] END .......................C=20, gamma=4, kernel=linear; total time=   0.0s\n",
      "[CV] END .......................C=20, gamma=4, kernel=linear; total time=   0.0s\n",
      "[CV] END .......................C=20, gamma=4, kernel=linear; total time=   0.0s\n",
      "[CV] END .......................C=20, gamma=4, kernel=linear; total time=   0.0s\n",
      "[CV] END ..........................C=20, gamma=4, kernel=rbf; total time=   0.0s\n",
      "[CV] END ..........................C=20, gamma=4, kernel=rbf; total time=   0.0s\n",
      "[CV] END ..........................C=20, gamma=4, kernel=rbf; total time=   0.0s\n",
      "[CV] END ..........................C=20, gamma=4, kernel=rbf; total time=   0.0s\n",
      "[CV] END ..........................C=20, gamma=4, kernel=rbf; total time=   0.0s\n",
      "[CV] END ......................C=20, gamma=10, kernel=linear; total time=   0.0s\n",
      "[CV] END ......................C=20, gamma=10, kernel=linear; total time=   0.0s\n",
      "[CV] END ......................C=20, gamma=10, kernel=linear; total time=   0.0s\n",
      "[CV] END ......................C=20, gamma=10, kernel=linear; total time=   0.0s\n",
      "[CV] END ......................C=20, gamma=10, kernel=linear; total time=   0.0s\n",
      "[CV] END .........................C=20, gamma=10, kernel=rbf; total time=   0.0s\n",
      "[CV] END .........................C=20, gamma=10, kernel=rbf; total time=   0.0s\n",
      "[CV] END .........................C=20, gamma=10, kernel=rbf; total time=   0.0s\n",
      "[CV] END .........................C=20, gamma=10, kernel=rbf; total time=   0.0s\n",
      "[CV] END .........................C=20, gamma=10, kernel=rbf; total time=   0.0s\n"
     ]
    },
    {
     "data": {
      "text/html": [
       "<style>#sk-container-id-3 {color: black;background-color: white;}#sk-container-id-3 pre{padding: 0;}#sk-container-id-3 div.sk-toggleable {background-color: white;}#sk-container-id-3 label.sk-toggleable__label {cursor: pointer;display: block;width: 100%;margin-bottom: 0;padding: 0.3em;box-sizing: border-box;text-align: center;}#sk-container-id-3 label.sk-toggleable__label-arrow:before {content: \"▸\";float: left;margin-right: 0.25em;color: #696969;}#sk-container-id-3 label.sk-toggleable__label-arrow:hover:before {color: black;}#sk-container-id-3 div.sk-estimator:hover label.sk-toggleable__label-arrow:before {color: black;}#sk-container-id-3 div.sk-toggleable__content {max-height: 0;max-width: 0;overflow: hidden;text-align: left;background-color: #f0f8ff;}#sk-container-id-3 div.sk-toggleable__content pre {margin: 0.2em;color: black;border-radius: 0.25em;background-color: #f0f8ff;}#sk-container-id-3 input.sk-toggleable__control:checked~div.sk-toggleable__content {max-height: 200px;max-width: 100%;overflow: auto;}#sk-container-id-3 input.sk-toggleable__control:checked~label.sk-toggleable__label-arrow:before {content: \"▾\";}#sk-container-id-3 div.sk-estimator input.sk-toggleable__control:checked~label.sk-toggleable__label {background-color: #d4ebff;}#sk-container-id-3 div.sk-label input.sk-toggleable__control:checked~label.sk-toggleable__label {background-color: #d4ebff;}#sk-container-id-3 input.sk-hidden--visually {border: 0;clip: rect(1px 1px 1px 1px);clip: rect(1px, 1px, 1px, 1px);height: 1px;margin: -1px;overflow: hidden;padding: 0;position: absolute;width: 1px;}#sk-container-id-3 div.sk-estimator {font-family: monospace;background-color: #f0f8ff;border: 1px dotted black;border-radius: 0.25em;box-sizing: border-box;margin-bottom: 0.5em;}#sk-container-id-3 div.sk-estimator:hover {background-color: #d4ebff;}#sk-container-id-3 div.sk-parallel-item::after {content: \"\";width: 100%;border-bottom: 1px solid gray;flex-grow: 1;}#sk-container-id-3 div.sk-label:hover label.sk-toggleable__label {background-color: #d4ebff;}#sk-container-id-3 div.sk-serial::before {content: \"\";position: absolute;border-left: 1px solid gray;box-sizing: border-box;top: 0;bottom: 0;left: 50%;z-index: 0;}#sk-container-id-3 div.sk-serial {display: flex;flex-direction: column;align-items: center;background-color: white;padding-right: 0.2em;padding-left: 0.2em;position: relative;}#sk-container-id-3 div.sk-item {position: relative;z-index: 1;}#sk-container-id-3 div.sk-parallel {display: flex;align-items: stretch;justify-content: center;background-color: white;position: relative;}#sk-container-id-3 div.sk-item::before, #sk-container-id-3 div.sk-parallel-item::before {content: \"\";position: absolute;border-left: 1px solid gray;box-sizing: border-box;top: 0;bottom: 0;left: 50%;z-index: -1;}#sk-container-id-3 div.sk-parallel-item {display: flex;flex-direction: column;z-index: 1;position: relative;background-color: white;}#sk-container-id-3 div.sk-parallel-item:first-child::after {align-self: flex-end;width: 50%;}#sk-container-id-3 div.sk-parallel-item:last-child::after {align-self: flex-start;width: 50%;}#sk-container-id-3 div.sk-parallel-item:only-child::after {width: 0;}#sk-container-id-3 div.sk-dashed-wrapped {border: 1px dashed gray;margin: 0 0.4em 0.5em 0.4em;box-sizing: border-box;padding-bottom: 0.4em;background-color: white;}#sk-container-id-3 div.sk-label label {font-family: monospace;font-weight: bold;display: inline-block;line-height: 1.2em;}#sk-container-id-3 div.sk-label-container {text-align: center;}#sk-container-id-3 div.sk-container {/* jupyter's `normalize.less` sets `[hidden] { display: none; }` but bootstrap.min.css set `[hidden] { display: none !important; }` so we also need the `!important` here to be able to override the default hidden behavior on the sphinx rendered scikit-learn.org. See: https://github.com/scikit-learn/scikit-learn/issues/21755 */display: inline-block !important;position: relative;}#sk-container-id-3 div.sk-text-repr-fallback {display: none;}</style><div id=\"sk-container-id-3\" class=\"sk-top-container\"><div class=\"sk-text-repr-fallback\"><pre>GridSearchCV(cv=5, error_score=&#x27;raise&#x27;, estimator=SVC(),\n",
       "             param_grid={&#x27;C&#x27;: [0.0001, 1, 20], &#x27;gamma&#x27;: [0.1, 4, 10],\n",
       "                         &#x27;kernel&#x27;: [&#x27;linear&#x27;, &#x27;rbf&#x27;]},\n",
       "             return_train_score=True, scoring=&#x27;f1_micro&#x27;, verbose=2)</pre><b>In a Jupyter environment, please rerun this cell to show the HTML representation or trust the notebook. <br />On GitHub, the HTML representation is unable to render, please try loading this page with nbviewer.org.</b></div><div class=\"sk-container\" hidden><div class=\"sk-item sk-dashed-wrapped\"><div class=\"sk-label-container\"><div class=\"sk-label sk-toggleable\"><input class=\"sk-toggleable__control sk-hidden--visually\" id=\"sk-estimator-id-3\" type=\"checkbox\" ><label for=\"sk-estimator-id-3\" class=\"sk-toggleable__label sk-toggleable__label-arrow\">GridSearchCV</label><div class=\"sk-toggleable__content\"><pre>GridSearchCV(cv=5, error_score=&#x27;raise&#x27;, estimator=SVC(),\n",
       "             param_grid={&#x27;C&#x27;: [0.0001, 1, 20], &#x27;gamma&#x27;: [0.1, 4, 10],\n",
       "                         &#x27;kernel&#x27;: [&#x27;linear&#x27;, &#x27;rbf&#x27;]},\n",
       "             return_train_score=True, scoring=&#x27;f1_micro&#x27;, verbose=2)</pre></div></div></div><div class=\"sk-parallel\"><div class=\"sk-parallel-item\"><div class=\"sk-item\"><div class=\"sk-label-container\"><div class=\"sk-label sk-toggleable\"><input class=\"sk-toggleable__control sk-hidden--visually\" id=\"sk-estimator-id-4\" type=\"checkbox\" ><label for=\"sk-estimator-id-4\" class=\"sk-toggleable__label sk-toggleable__label-arrow\">estimator: SVC</label><div class=\"sk-toggleable__content\"><pre>SVC()</pre></div></div></div><div class=\"sk-serial\"><div class=\"sk-item\"><div class=\"sk-estimator sk-toggleable\"><input class=\"sk-toggleable__control sk-hidden--visually\" id=\"sk-estimator-id-5\" type=\"checkbox\" ><label for=\"sk-estimator-id-5\" class=\"sk-toggleable__label sk-toggleable__label-arrow\">SVC</label><div class=\"sk-toggleable__content\"><pre>SVC()</pre></div></div></div></div></div></div></div></div></div></div>"
      ],
      "text/plain": [
       "GridSearchCV(cv=5, error_score='raise', estimator=SVC(),\n",
       "             param_grid={'C': [0.0001, 1, 20], 'gamma': [0.1, 4, 10],\n",
       "                         'kernel': ['linear', 'rbf']},\n",
       "             return_train_score=True, scoring='f1_micro', verbose=2)"
      ]
     },
     "execution_count": 37,
     "metadata": {},
     "output_type": "execute_result"
    }
   ],
   "source": [
    "from sklearn.model_selection import GridSearchCV\n",
    "parameters_dictionary={'kernel':['linear','rbf'],\n",
    "                      'C':[0.0001,1,20],\n",
    "                      'gamma':[0.1,4,10]}\n",
    "new_model_2=svm.SVC()\n",
    "grid_search=GridSearchCV(new_model_2,\n",
    "                        parameters_dictionary,\n",
    "                        scoring='f1_micro',\n",
    "                        return_train_score=True,\n",
    "                        cv=5,\n",
    "                        verbose=2,\n",
    "                        error_score='raise')\n",
    "grid_search.fit(x_train,y_train)"
   ]
  },
  {
   "cell_type": "code",
   "execution_count": 38,
   "id": "67864602-f898-41ad-b9f5-120281d55297",
   "metadata": {
    "tags": []
   },
   "outputs": [
    {
     "name": "stdout",
     "output_type": "stream",
     "text": [
      "The best modelwas: SVC(C=20, gamma=4)\n",
      "The best parameter values were: {'C': 20, 'gamma': 4, 'kernel': 'rbf'}\n",
      "The best f1-score was 0.9737935977066412\n"
     ]
    }
   ],
   "source": [
    "best_model=grid_search.best_estimator_\n",
    "best_parameters=grid_search.best_params_\n",
    "best_f1=grid_search.best_score_\n",
    "\n",
    "print('The best modelwas:',best_model)\n",
    "print('The best parameter values were:',best_parameters)\n",
    "print('The best f1-score was',best_f1)"
   ]
  },
  {
   "cell_type": "code",
   "execution_count": 39,
   "id": "02bdc18b-09f1-4a5c-abbf-5aa6912d2876",
   "metadata": {},
   "outputs": [
    {
     "data": {
      "text/html": [
       "<div>\n",
       "<style scoped>\n",
       "    .dataframe tbody tr th:only-of-type {\n",
       "        vertical-align: middle;\n",
       "    }\n",
       "\n",
       "    .dataframe tbody tr th {\n",
       "        vertical-align: top;\n",
       "    }\n",
       "\n",
       "    .dataframe thead th {\n",
       "        text-align: right;\n",
       "    }\n",
       "</style>\n",
       "<table border=\"1\" class=\"dataframe\">\n",
       "  <thead>\n",
       "    <tr style=\"text-align: right;\">\n",
       "      <th>Predicted Labels</th>\n",
       "      <th>0</th>\n",
       "      <th>1</th>\n",
       "      <th>2</th>\n",
       "    </tr>\n",
       "    <tr>\n",
       "      <th>Actual Label</th>\n",
       "      <th></th>\n",
       "      <th></th>\n",
       "      <th></th>\n",
       "    </tr>\n",
       "  </thead>\n",
       "  <tbody>\n",
       "    <tr>\n",
       "      <th>0</th>\n",
       "      <td>39</td>\n",
       "      <td>2</td>\n",
       "      <td>0</td>\n",
       "    </tr>\n",
       "    <tr>\n",
       "      <th>1</th>\n",
       "      <td>0</td>\n",
       "      <td>37</td>\n",
       "      <td>2</td>\n",
       "    </tr>\n",
       "    <tr>\n",
       "      <th>2</th>\n",
       "      <td>0</td>\n",
       "      <td>1</td>\n",
       "      <td>34</td>\n",
       "    </tr>\n",
       "  </tbody>\n",
       "</table>\n",
       "</div>"
      ],
      "text/plain": [
       "Predicted Labels   0   1   2\n",
       "Actual Label                \n",
       "0                 39   2   0\n",
       "1                  0  37   2\n",
       "2                  0   1  34"
      ]
     },
     "execution_count": 39,
     "metadata": {},
     "output_type": "execute_result"
    }
   ],
   "source": [
    "y_preds=new_model.predict(x_test)\n",
    "conf_mat3=confusion_matrix(y_test,y_preds)\n",
    "pd.crosstab(y_test,y_preds,\n",
    "            rownames=['Actual Label'],\n",
    "            colnames=['Predicted Labels'])"
   ]
  },
  {
   "cell_type": "code",
   "execution_count": 40,
   "id": "a17794d9-f27f-4d55-9b15-7c96c59eca62",
   "metadata": {},
   "outputs": [
    {
     "data": {
      "image/png": "[encoded data removed]",
      "text/plain": [
       "<Figure size 300x300 with 1 Axes>"
      ]
     },
     "metadata": {},
     "output_type": "display_data"
    }
   ],
   "source": [
    "# creating a function for the confusion matrix\n",
    "def plot_conf_mat(conf_mat3):\n",
    "    \"\"\"plots a confusion matrix using seabor's heatmap().\"\"\"\n",
    "    fig,ax=plt.subplots(figsize=(3,3))\n",
    "    ax=sns.heatmap(conf_mat3,annot=True,\n",
    "                  #Annotate the boxes with conf_mat info,\n",
    "                  cbar=False)\n",
    "    plt.xlabel('True label')\n",
    "    plt.ylabel('Predicted label');\n",
    "\n",
    "plot_conf_mat(conf_mat3)"
   ]
  },
  {
   "cell_type": "markdown",
   "id": "bef77d5b-5214-4029-a1ae-95c4c22a6913",
   "metadata": {},
   "source": [
    "### Saving and loading model using the python pickle module\n"
   ]
  },
  {
   "cell_type": "code",
   "execution_count": 41,
   "id": "be716ee3-8fea-4abc-92d0-f73bfbba8b56",
   "metadata": {},
   "outputs": [],
   "source": [
    "import pickle\n",
    "pickle.dump(new_model_2,open('Failure_mode_prediction_model.pkl','wb'))"
   ]
  }
 ],
 "metadata": {
  "kernelspec": {
   "display_name": "Python 3 (ipykernel)",
   "language": "python",
   "name": "python3"
  },
  "language_info": {
   "codemirror_mode": {
    "name": "ipython",
    "version": 3
   },
   "file_extension": ".py",
   "mimetype": "text/x-python",
   "name": "python",
   "nbconvert_exporter": "python",
   "pygments_lexer": "ipython3",
   "version": "3.11.4"
  }
 },
 "nbformat": 4,
 "nbformat_minor": 5
}
